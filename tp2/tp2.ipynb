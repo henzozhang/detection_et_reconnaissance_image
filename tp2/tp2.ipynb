{
 "cells": [
  {
   "cell_type": "markdown",
   "metadata": {},
   "source": [
    "# exercice 3 tp2\n"
   ]
  },
  {
   "cell_type": "code",
   "execution_count": 8,
   "metadata": {},
   "outputs": [],
   "source": [
    "import numpy as np\n",
    "from math import *\n",
    "import matplotlib .image as img\n",
    "import matplotlib . pyplot as plt"
   ]
  },
  {
   "cell_type": "code",
   "execution_count": 11,
   "metadata": {},
   "outputs": [],
   "source": [
    "from PIL import Image\n",
    "\n",
    "# Charger l'image\n",
    "image = Image.open(\"Creuse_ane.jpg\")\n",
    "\n",
    "# Convertir l'image en nuances de gris\n",
    "image_grayscale = image.convert(\"L\")\n",
    "\n",
    "# Afficher l'image en nuances de gris\n",
    "image_grayscale.show()\n"
   ]
  },
  {
   "cell_type": "code",
   "execution_count": 16,
   "metadata": {},
   "outputs": [],
   "source": [
    "\n",
    "\n",
    "# Charger l'image originale\n",
    "image_originale = Image.open(\"Creuse_ane.jpg\")\n",
    "\n",
    "# Créer une image miroir\n",
    "image_miroir = image_originale.transpose(Image.FLIP_LEFT_RIGHT)\n",
    "\n",
    "# Obtenir les dimensions de l'image originale\n",
    "largeur, hauteur = image_originale.size\n",
    "\n",
    "# Créer une nouvelle image avec une largeur double\n",
    "nouvelle_largeur = largeur * 2\n",
    "nouvelle_image = Image.new(\"RGB\", (nouvelle_largeur, hauteur))\n",
    "\n",
    "# Coller l'image originale à gauche\n",
    "nouvelle_image.paste(image_originale, (0, 0))\n",
    "\n",
    "# Coller l'image miroir à droite\n",
    "nouvelle_image.paste(image_miroir, (largeur, 0))\n",
    "\n",
    "nouvelle_image.show()\n",
    "# # Enregistrer l'image résultante\n",
    "# nouvelle_image.save(\"image_resultat.jpg\")\n"
   ]
  },
  {
   "cell_type": "code",
   "execution_count": 15,
   "metadata": {},
   "outputs": [],
   "source": [
    "from PIL import Image\n",
    "\n",
    "# Charger l'image originale\n",
    "image_originale = Image.open(\"Creuse_ane.jpg\")\n",
    "\n",
    "# Calculer les nouvelles dimensions de l'image\n",
    "nouvelle_largeur = image_originale.width // 4\n",
    "nouvelle_hauteur = image_originale.height // 4\n",
    "\n",
    "# Redimensionner l'image\n",
    "image_redimensionnee = image_originale.resize((nouvelle_largeur, nouvelle_hauteur))\n",
    "\n",
    "# Afficher l'image redimensionnée\n",
    "image_redimensionnee.show()\n",
    "\n"
   ]
  },
  {
   "cell_type": "code",
   "execution_count": 17,
   "metadata": {},
   "outputs": [],
   "source": [
    "\n",
    "\n",
    "# Load the original image\n",
    "original_image = Image.open(\"petit_gris.jpg\")\n",
    "\n",
    "# Get the dimensions of the original image\n",
    "width, height = original_image.size\n",
    "\n",
    "# Create a new image with four times the width and height\n",
    "new_width = width * 2\n",
    "new_height = height * 2\n",
    "new_image = Image.new(\"RGB\", (new_width, new_height))\n",
    "\n",
    "# Paste the original image four times\n",
    "new_image.paste(original_image, (0, 0))\n",
    "new_image.paste(original_image, (width, 0))\n",
    "new_image.paste(original_image, (0, height))\n",
    "new_image.paste(original_image, (width, height))\n",
    "\n",
    "# Display the new image\n",
    "new_image.show()\n"
   ]
  },
  {
   "cell_type": "code",
   "execution_count": 31,
   "metadata": {},
   "outputs": [
    {
     "data": {
      "text/plain": [
       "(1456, 2592, 3)"
      ]
     },
     "execution_count": 31,
     "metadata": {},
     "output_type": "execute_result"
    }
   ],
   "source": [
    "image_array.shape"
   ]
  },
  {
   "cell_type": "code",
   "execution_count": 30,
   "metadata": {},
   "outputs": [
    {
     "data": {
      "text/plain": [
       "(957, 957, 3)"
      ]
     },
     "execution_count": 30,
     "metadata": {},
     "output_type": "execute_result"
    }
   ],
   "source": [
    "logo_array.shape"
   ]
  },
  {
   "cell_type": "code",
   "execution_count": 44,
   "metadata": {},
   "outputs": [],
   "source": [
    "from PIL import Image\n",
    "import numpy as np\n",
    "\n",
    "# Charger l'image du chat\n",
    "image_chat = Image.open(\"petit_gris.jpg\")\n",
    "\n",
    "# Charger le logo avec fond transparent\n",
    "logo = Image.open(\"sosoftware_white_new.png\")\n",
    "\n",
    "\n",
    "# Convert the logo image to RGBA mode\n",
    "logo = logo.convert(\"RGBA\")\n",
    "\n",
    "# Remove white pixels from the logo image\n",
    "logo_data = logo.getdata()\n",
    "new_logo_data = []\n",
    "for item in logo_data:\n",
    "    # Check if the pixel is white\n",
    "    if item[:3] != (255, 255, 255):\n",
    "        new_logo_data.append(item)\n",
    "    else:\n",
    "        # Set the alpha channel to 0 for white pixels\n",
    "        new_logo_data.append((255, 255, 255, 0))\n",
    "\n",
    "# Create a new logo image with the modified data\n",
    "logo.putdata(new_logo_data)\n",
    "\n",
    "# Create a new image with the same size as the chat image\n",
    "result = Image.new(\"RGBA\", image_chat.size)\n",
    "\n",
    "# Paste the chat image onto the new image\n",
    "result.paste(image_chat, (0, 0))\n",
    "\n",
    "# Paste the logo image onto the new image at the top left corner\n",
    "result.paste(logo, (0, 0), mask=logo)\n",
    "\n",
    "# Display the resulting image\n",
    "result.show()\n"
   ]
  }
 ],
 "metadata": {
  "kernelspec": {
   "display_name": "myenv",
   "language": "python",
   "name": "python3"
  },
  "language_info": {
   "codemirror_mode": {
    "name": "ipython",
    "version": 3
   },
   "file_extension": ".py",
   "mimetype": "text/x-python",
   "name": "python",
   "nbconvert_exporter": "python",
   "pygments_lexer": "ipython3",
   "version": "3.9.18"
  }
 },
 "nbformat": 4,
 "nbformat_minor": 2
}
